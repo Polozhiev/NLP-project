{
 "cells": [
  {
   "cell_type": "code",
   "execution_count": 27,
   "metadata": {
    "execution": {
     "iopub.execute_input": "2023-03-24T09:17:35.620226Z",
     "iopub.status.busy": "2023-03-24T09:17:35.619628Z",
     "iopub.status.idle": "2023-03-24T09:17:45.313928Z",
     "shell.execute_reply": "2023-03-24T09:17:45.312664Z",
     "shell.execute_reply.started": "2023-03-24T09:17:35.620187Z"
    }
   },
   "outputs": [
    {
     "name": "stdout",
     "output_type": "stream",
     "text": [
      "Requirement already satisfied: pymorphy2 in /opt/conda/lib/python3.7/site-packages (0.9.1)\n",
      "Requirement already satisfied: docopt>=0.6 in /opt/conda/lib/python3.7/site-packages (from pymorphy2) (0.6.2)\n",
      "Requirement already satisfied: pymorphy2-dicts-ru<3.0,>=2.4 in /opt/conda/lib/python3.7/site-packages (from pymorphy2) (2.4.417127.4579844)\n",
      "Requirement already satisfied: dawg-python>=0.7.1 in /opt/conda/lib/python3.7/site-packages (from pymorphy2) (0.7.2)\n",
      "\u001b[33mWARNING: Running pip as the 'root' user can result in broken permissions and conflicting behaviour with the system package manager. It is recommended to use a virtual environment instead: https://pip.pypa.io/warnings/venv\u001b[0m\u001b[33m\n",
      "\u001b[0m"
     ]
    }
   ],
   "source": [
    "import numpy as np\n",
    "import pandas as pd \n",
    "from tqdm import tqdm\n",
    "import re\n",
    "from nltk.tokenize import sent_tokenize, word_tokenize\n",
    "from nltk.corpus import stopwords\n",
    "!pip install pymorphy2\n",
    "import pymorphy2\n",
    "import gensim\n",
    "from gensim.models.doc2vec import Doc2Vec, TaggedDocument\n",
    "from sklearn.model_selection import train_test_split\n",
    "import copy\n",
    "from sklearn.metrics import accuracy_score, f1_score, precision_score, recall_score, classification_report, confusion_matrix\n",
    "from sklearn import metrics"
   ]
  },
  {
   "cell_type": "code",
   "execution_count": 2,
   "metadata": {
    "_cell_guid": "b1076dfc-b9ad-4769-8c92-a6c4dae69d19",
    "_uuid": "8f2839f25d086af736a60e9eeb907d3b93b6e0e5",
    "execution": {
     "iopub.execute_input": "2023-03-24T08:36:41.308435Z",
     "iopub.status.busy": "2023-03-24T08:36:41.307393Z",
     "iopub.status.idle": "2023-03-24T08:36:43.828931Z",
     "shell.execute_reply": "2023-03-24T08:36:43.827762Z",
     "shell.execute_reply.started": "2023-03-24T08:36:41.308390Z"
    }
   },
   "outputs": [
    {
     "name": "stdout",
     "output_type": "stream",
     "text": [
      "Dataset size (18779, 2)\n",
      "row number:  18779\n",
      "feature number:  2\n",
      "\n",
      "names of features:  ['original_data', 'score']\n",
      "-------------------\n",
      "full data loaded\n",
      "-------------------\n",
      "                                           original_data  score\n",
      "0      Вот тут у Галы:http://vaskodagala.livejournal....      0\n",
      "1      Мужик, разомлевший то ли от коньяка, то ли от ...      0\n",
      "2      ро треть бедных - тоже вранье. Даже если говор...     -1\n",
      "3      все относительно.  законодатели достали конкре...     -1\n",
      "4      А Алтайский край и Республика Алтай - разные с...      0\n",
      "...                                                  ...    ...\n",
      "18774  да агония это уже  Аххахахахахахахааа!!!!!  Пи...     -2\n",
      "18775  Для колониальных войн/войн за ресурсы, ессно! ...     -2\n",
      "18776  Как в одном из наших роликов, когда боевиков о...     -1\n",
      "18777  Ты знаешь, да, идея, что у нас такая среда, чт...     -1\n",
      "18778   жалость -  Ой, бедный ты. На тебе конфетку. И...      0\n",
      "\n",
      "[18779 rows x 2 columns]\n"
     ]
    }
   ],
   "source": [
    "train_data = \"/kaggle/input/nlp-data/train_data_exam_1.xlsx\"\n",
    "df_train = pd.read_excel(train_data, 0)  \n",
    "test_data = \"/kaggle/input/nlp-data/test_data_exam_1.xlsx\"\n",
    "df_test = pd.read_excel(test_data, 0)  \n",
    "\n",
    "# this gives us the size of the array\n",
    "print('Dataset size', df_train.shape)\n",
    "\n",
    "# here we can get size of array as two variables\n",
    "num_rows, num_feature = df_train.shape\n",
    "\n",
    "print('row number: ', num_rows)\n",
    "print('feature number: ', num_feature)\n",
    "print()\n",
    "print('names of features: ', list(df_train))\n",
    "\n",
    "print('-------------------')\n",
    "print('full data loaded')\n",
    "print('-------------------')\n",
    "print(df_train)"
   ]
  },
  {
   "cell_type": "code",
   "execution_count": 3,
   "metadata": {
    "execution": {
     "iopub.execute_input": "2023-03-24T08:37:35.972937Z",
     "iopub.status.busy": "2023-03-24T08:37:35.971592Z",
     "iopub.status.idle": "2023-03-24T08:50:43.921306Z",
     "shell.execute_reply": "2023-03-24T08:50:43.920173Z",
     "shell.execute_reply.started": "2023-03-24T08:37:35.972886Z"
    }
   },
   "outputs": [
    {
     "name": "stderr",
     "output_type": "stream",
     "text": [
      "  0%|          | 0/18779 [00:00<?, ?it/s]/opt/conda/lib/python3.7/site-packages/ipykernel_launcher.py:17: SettingWithCopyWarning: \n",
      "A value is trying to be set on a copy of a slice from a DataFrame\n",
      "\n",
      "See the caveats in the documentation: https://pandas.pydata.org/pandas-docs/stable/user_guide/indexing.html#returning-a-view-versus-a-copy\n",
      "  app.launch_new_instance()\n",
      "100%|██████████| 18779/18779 [13:07<00:00, 23.84it/s]"
     ]
    },
    {
     "name": "stdout",
     "output_type": "stream",
     "text": [
      "                                           original_data  score\n",
      "0      вот тут у гала небольшой коментарий от pocahon...      0\n",
      "1      мужик разомлеть то ли от коньяк то ли от мой щ...      0\n",
      "2      ро треть бедный тоже враньё даже если говорить...     -1\n",
      "3      всё относительно законодатель достать конкретн...     -1\n",
      "4      а алтайский край и республика алтай разный суб...      0\n",
      "...                                                  ...    ...\n",
      "18774  да агония это уже аххахахахахахахааа пиздец до...     -2\n",
      "18775  для колониальный войнвойна за ресурс ессный ил...     -2\n",
      "18776  как в один из наш ролик когда боевик окружить ...     -1\n",
      "18777  ты знать да идея что у мы такой среда что надо...     -1\n",
      "18778  жалость ой бедный ты на ты конфетка или хоть п...      0\n",
      "\n",
      "[18779 rows x 2 columns]\n"
     ]
    },
    {
     "name": "stderr",
     "output_type": "stream",
     "text": [
      "\n"
     ]
    }
   ],
   "source": [
    "def clear_and_lematization(df):\n",
    "    morph = pymorphy2.MorphAnalyzer()\n",
    "    for i in tqdm(range(len(df))):\n",
    "        s = str(df['original_data'][i])  \n",
    "        s=re.sub(r'http\\S+', '', s) \n",
    "        s = s.lower()\n",
    "        s=\"\".join(c for c in s if c.isalpha() or c ==\" \")\n",
    "        s = re.sub(r'\\s+', ' ', s)\n",
    "        \n",
    "        # how we are doing lematization\n",
    "        tokens = word_tokenize(s)\n",
    "        doc_stem=''\n",
    "        for j in range(0,len(tokens)):\n",
    "            tokens[j] = morph.parse(tokens[j])[0].normal_form\n",
    "            doc_stem = doc_stem + tokens[j] + ' '\n",
    "\n",
    "        df['original_data'][i]=doc_stem\n",
    "    return df\n",
    "df_train=clear_and_lematization(df_train)\n",
    "print(df_train)"
   ]
  },
  {
   "cell_type": "code",
   "execution_count": 4,
   "metadata": {
    "execution": {
     "iopub.execute_input": "2023-03-24T08:50:47.203162Z",
     "iopub.status.busy": "2023-03-24T08:50:47.202737Z",
     "iopub.status.idle": "2023-03-24T08:56:14.387332Z",
     "shell.execute_reply": "2023-03-24T08:56:14.386190Z",
     "shell.execute_reply.started": "2023-03-24T08:50:47.203126Z"
    }
   },
   "outputs": [
    {
     "name": "stderr",
     "output_type": "stream",
     "text": [
      "  0%|          | 0/8048 [00:00<?, ?it/s]/opt/conda/lib/python3.7/site-packages/ipykernel_launcher.py:17: SettingWithCopyWarning: \n",
      "A value is trying to be set on a copy of a slice from a DataFrame\n",
      "\n",
      "See the caveats in the documentation: https://pandas.pydata.org/pandas-docs/stable/user_guide/indexing.html#returning-a-view-versus-a-copy\n",
      "  app.launch_new_instance()\n",
      "100%|██████████| 8048/8048 [05:26<00:00, 24.62it/s]\n"
     ]
    }
   ],
   "source": [
    "df_test=clear_and_lematization(df_test)"
   ]
  },
  {
   "cell_type": "code",
   "execution_count": 6,
   "metadata": {
    "execution": {
     "iopub.execute_input": "2023-03-24T09:03:03.009342Z",
     "iopub.status.busy": "2023-03-24T09:03:03.008883Z",
     "iopub.status.idle": "2023-03-24T09:03:37.474851Z",
     "shell.execute_reply": "2023-03-24T09:03:37.473889Z",
     "shell.execute_reply.started": "2023-03-24T09:03:03.009300Z"
    }
   },
   "outputs": [
    {
     "name": "stderr",
     "output_type": "stream",
     "text": [
      "  0%|          | 0/18779 [00:00<?, ?it/s]/opt/conda/lib/python3.7/site-packages/ipykernel_launcher.py:7: SettingWithCopyWarning: \n",
      "A value is trying to be set on a copy of a slice from a DataFrame\n",
      "\n",
      "See the caveats in the documentation: https://pandas.pydata.org/pandas-docs/stable/user_guide/indexing.html#returning-a-view-versus-a-copy\n",
      "  import sys\n",
      "100%|██████████| 18779/18779 [00:24<00:00, 754.38it/s]\n",
      "100%|██████████| 8048/8048 [00:09<00:00, 843.63it/s]"
     ]
    },
    {
     "name": "stdout",
     "output_type": "stream",
     "text": [
      "                                           original_data  score\n",
      "0      гала небольшой коментарий pocahontasm рекоменд...      0\n",
      "1      мужик разомлеть коньяк щастие согласиться пост...      0\n",
      "2      ро треть бедный враньё говорить столица провин...     -1\n",
      "3      всё относительно законодатель достать конкретн...     -1\n",
      "4      алтайский край республика алтай разный субъект...      0\n",
      "...                                                  ...    ...\n",
      "18774  агония это аххахахахахахахааа пиздец долбоеб и...     -2\n",
      "18775  колониальный войнвойна ресурс ессный всякий ку...     -2\n",
      "18776  наш ролик боевик окружить возможность сопротив...     -1\n",
      "18777  знать идея среда снижать риск путём невысовыва...     -1\n",
      "18778  жалость ой бедный конфетка поплакать вместе вз...      0\n",
      "\n",
      "[18779 rows x 2 columns]\n"
     ]
    },
    {
     "name": "stderr",
     "output_type": "stream",
     "text": [
      "\n"
     ]
    }
   ],
   "source": [
    "def stop_words(df):\n",
    "    my_stop = set(stopwords.words('russian'))\n",
    "    for i in tqdm(range(len(df))):\n",
    "        s = str(df['original_data'][i])  \n",
    "        tokens = word_tokenize(s)\n",
    "        tokens_without_sw = [word for word in tokens if not word in my_stop]\n",
    "        df['original_data'][i]=\" \".join(tokens_without_sw)\n",
    "    return df\n",
    "df_train=stop_words(df_train)\n",
    "df_test=stop_words(df_test)\n",
    "print(df_train)"
   ]
  },
  {
   "cell_type": "code",
   "execution_count": 11,
   "metadata": {
    "execution": {
     "iopub.execute_input": "2023-03-24T09:04:09.244362Z",
     "iopub.status.busy": "2023-03-24T09:04:09.243312Z",
     "iopub.status.idle": "2023-03-24T09:04:09.254884Z",
     "shell.execute_reply": "2023-03-24T09:04:09.253522Z",
     "shell.execute_reply.started": "2023-03-24T09:04:09.244320Z"
    }
   },
   "outputs": [
    {
     "name": "stdout",
     "output_type": "stream",
     "text": [
      "                                           original_data  score\n",
      "0      гала небольшой коментарий pocahontasm рекоменд...      0\n",
      "1      мужик разомлеть коньяк щастие согласиться пост...      0\n",
      "2      ро треть бедный враньё говорить столица провин...     -1\n",
      "3      всё относительно законодатель достать конкретн...     -1\n",
      "4      алтайский край республика алтай разный субъект...      0\n",
      "...                                                  ...    ...\n",
      "18774  агония это аххахахахахахахааа пиздец долбоеб и...     -2\n",
      "18775  колониальный войнвойна ресурс ессный всякий ку...     -2\n",
      "18776  наш ролик боевик окружить возможность сопротив...     -1\n",
      "18777  знать идея среда снижать риск путём невысовыва...     -1\n",
      "18778  жалость ой бедный конфетка поплакать вместе вз...      0\n",
      "\n",
      "[18779 rows x 2 columns]\n"
     ]
    }
   ],
   "source": [
    "df=copy.deepcopy(df_train)\n",
    "print(df)"
   ]
  },
  {
   "cell_type": "code",
   "execution_count": 13,
   "metadata": {
    "execution": {
     "iopub.execute_input": "2023-03-24T09:04:23.053598Z",
     "iopub.status.busy": "2023-03-24T09:04:23.053161Z",
     "iopub.status.idle": "2023-03-24T09:04:23.060125Z",
     "shell.execute_reply": "2023-03-24T09:04:23.059095Z",
     "shell.execute_reply.started": "2023-03-24T09:04:23.053563Z"
    }
   },
   "outputs": [],
   "source": [
    "def vectorization(df):\n",
    "    documents = [TaggedDocument(doc, [i]) for i, doc in enumerate(list(df['original_data']))]\n",
    "    #We have successfully cleaned the documents and let’s create the model\n",
    "\n",
    "    d2v_model = Doc2Vec(documents, vector_size=300, epochs=8, workers=4)\n",
    "    #w2v_model = Word2Vec(min_count=10, window=2, vector_size=300, negative=10, alpha=0.03, min_alpha=0.0007, sample=6e-5, sg=1)\n",
    "\n",
    "    Y = df['score'].values\n",
    "    encoded_docs = [d2v_model.infer_vector([x]) for x in df[\"original_data\"]]\n",
    "\n",
    "    df[\"original_data\"] = encoded_docs\n",
    "    return df"
   ]
  },
  {
   "cell_type": "code",
   "execution_count": 14,
   "metadata": {
    "execution": {
     "iopub.execute_input": "2023-03-24T09:04:27.840495Z",
     "iopub.status.busy": "2023-03-24T09:04:27.840120Z",
     "iopub.status.idle": "2023-03-24T09:06:00.088308Z",
     "shell.execute_reply": "2023-03-24T09:06:00.081557Z",
     "shell.execute_reply.started": "2023-03-24T09:04:27.840448Z"
    }
   },
   "outputs": [],
   "source": [
    "df=vectorization(df)"
   ]
  },
  {
   "cell_type": "code",
   "execution_count": 15,
   "metadata": {
    "execution": {
     "iopub.execute_input": "2023-03-24T09:07:24.658017Z",
     "iopub.status.busy": "2023-03-24T09:07:24.657289Z",
     "iopub.status.idle": "2023-03-24T09:07:24.682495Z",
     "shell.execute_reply": "2023-03-24T09:07:24.681377Z",
     "shell.execute_reply.started": "2023-03-24T09:07:24.657977Z"
    }
   },
   "outputs": [
    {
     "data": {
      "text/html": [
       "<div>\n",
       "<style scoped>\n",
       "    .dataframe tbody tr th:only-of-type {\n",
       "        vertical-align: middle;\n",
       "    }\n",
       "\n",
       "    .dataframe tbody tr th {\n",
       "        vertical-align: top;\n",
       "    }\n",
       "\n",
       "    .dataframe thead th {\n",
       "        text-align: right;\n",
       "    }\n",
       "</style>\n",
       "<table border=\"1\" class=\"dataframe\">\n",
       "  <thead>\n",
       "    <tr style=\"text-align: right;\">\n",
       "      <th></th>\n",
       "      <th>original_data</th>\n",
       "      <th>score</th>\n",
       "    </tr>\n",
       "  </thead>\n",
       "  <tbody>\n",
       "    <tr>\n",
       "      <th>0</th>\n",
       "      <td>[-0.00038517645, 0.00088026223, -0.000894949, ...</td>\n",
       "      <td>0</td>\n",
       "    </tr>\n",
       "    <tr>\n",
       "      <th>1</th>\n",
       "      <td>[0.0014365711, -9.28396e-05, -0.000854706, -0....</td>\n",
       "      <td>0</td>\n",
       "    </tr>\n",
       "    <tr>\n",
       "      <th>2</th>\n",
       "      <td>[-0.0013412577, -0.0015426081, -0.00018100967,...</td>\n",
       "      <td>-1</td>\n",
       "    </tr>\n",
       "    <tr>\n",
       "      <th>3</th>\n",
       "      <td>[-0.00068813405, -0.00029315392, -8.4696214e-0...</td>\n",
       "      <td>-1</td>\n",
       "    </tr>\n",
       "    <tr>\n",
       "      <th>4</th>\n",
       "      <td>[0.0014163087, 0.0012789526, -0.00045867762, 0...</td>\n",
       "      <td>0</td>\n",
       "    </tr>\n",
       "    <tr>\n",
       "      <th>...</th>\n",
       "      <td>...</td>\n",
       "      <td>...</td>\n",
       "    </tr>\n",
       "    <tr>\n",
       "      <th>18774</th>\n",
       "      <td>[0.0005942329, 3.3465625e-05, -0.0011421473, -...</td>\n",
       "      <td>-2</td>\n",
       "    </tr>\n",
       "    <tr>\n",
       "      <th>18775</th>\n",
       "      <td>[-0.0012819793, 0.00033048927, 0.0006386216, -...</td>\n",
       "      <td>-2</td>\n",
       "    </tr>\n",
       "    <tr>\n",
       "      <th>18776</th>\n",
       "      <td>[-0.0003628096, -0.00013684412, -0.00019942621...</td>\n",
       "      <td>-1</td>\n",
       "    </tr>\n",
       "    <tr>\n",
       "      <th>18777</th>\n",
       "      <td>[0.0006082211, -0.0006100209, 0.00021320283, 0...</td>\n",
       "      <td>-1</td>\n",
       "    </tr>\n",
       "    <tr>\n",
       "      <th>18778</th>\n",
       "      <td>[0.00035076798, 0.0011708764, 0.0015486046, -0...</td>\n",
       "      <td>0</td>\n",
       "    </tr>\n",
       "  </tbody>\n",
       "</table>\n",
       "<p>18779 rows × 2 columns</p>\n",
       "</div>"
      ],
      "text/plain": [
       "                                           original_data  score\n",
       "0      [-0.00038517645, 0.00088026223, -0.000894949, ...      0\n",
       "1      [0.0014365711, -9.28396e-05, -0.000854706, -0....      0\n",
       "2      [-0.0013412577, -0.0015426081, -0.00018100967,...     -1\n",
       "3      [-0.00068813405, -0.00029315392, -8.4696214e-0...     -1\n",
       "4      [0.0014163087, 0.0012789526, -0.00045867762, 0...      0\n",
       "...                                                  ...    ...\n",
       "18774  [0.0005942329, 3.3465625e-05, -0.0011421473, -...     -2\n",
       "18775  [-0.0012819793, 0.00033048927, 0.0006386216, -...     -2\n",
       "18776  [-0.0003628096, -0.00013684412, -0.00019942621...     -1\n",
       "18777  [0.0006082211, -0.0006100209, 0.00021320283, 0...     -1\n",
       "18778  [0.00035076798, 0.0011708764, 0.0015486046, -0...      0\n",
       "\n",
       "[18779 rows x 2 columns]"
      ]
     },
     "execution_count": 15,
     "metadata": {},
     "output_type": "execute_result"
    }
   ],
   "source": [
    "df"
   ]
  },
  {
   "cell_type": "code",
   "execution_count": 16,
   "metadata": {
    "execution": {
     "iopub.execute_input": "2023-03-24T09:07:29.042332Z",
     "iopub.status.busy": "2023-03-24T09:07:29.041902Z",
     "iopub.status.idle": "2023-03-24T09:08:08.110644Z",
     "shell.execute_reply": "2023-03-24T09:08:08.109441Z",
     "shell.execute_reply.started": "2023-03-24T09:07:29.042294Z"
    }
   },
   "outputs": [],
   "source": [
    "df_test=vectorization(df_test)"
   ]
  },
  {
   "cell_type": "code",
   "execution_count": 17,
   "metadata": {
    "execution": {
     "iopub.execute_input": "2023-03-24T09:08:12.344576Z",
     "iopub.status.busy": "2023-03-24T09:08:12.343665Z",
     "iopub.status.idle": "2023-03-24T09:08:12.363706Z",
     "shell.execute_reply": "2023-03-24T09:08:12.362501Z",
     "shell.execute_reply.started": "2023-03-24T09:08:12.344523Z"
    }
   },
   "outputs": [
    {
     "name": "stdout",
     "output_type": "stream",
     "text": [
      "                                          original_data  score\n",
      "0     [-0.0007005358, -0.0010926597, -0.0008658411, ...      0\n",
      "1     [0.00050507725, 0.0015609633, -0.00063179614, ...      0\n",
      "2     [0.0012362582, -0.0012174068, 0.001658022, -0....      1\n",
      "3     [-0.0006065422, 0.0012920747, 0.0011434853, 0....     -1\n",
      "4     [-3.506144e-06, -0.0011744092, 0.0005202212, 0...     -1\n",
      "...                                                 ...    ...\n",
      "8043  [0.00033375024, -4.824559e-05, 0.0011086279, 0...      0\n",
      "8044  [-0.0002488044, -0.0012059625, -0.0004676775, ...      0\n",
      "8045  [-0.00030789195, 0.0008987969, 0.0014729772, -...      0\n",
      "8046  [-0.0011191082, 0.0011925958, -0.0012218261, 0...      0\n",
      "8047  [-0.0016263147, -0.0007113282, -0.001607763, 0...      0\n",
      "\n",
      "[8048 rows x 2 columns]\n"
     ]
    }
   ],
   "source": [
    "print(df_test)"
   ]
  },
  {
   "cell_type": "code",
   "execution_count": 18,
   "metadata": {
    "execution": {
     "iopub.execute_input": "2023-03-24T09:08:17.711381Z",
     "iopub.status.busy": "2023-03-24T09:08:17.710994Z",
     "iopub.status.idle": "2023-03-24T09:08:17.720100Z",
     "shell.execute_reply": "2023-03-24T09:08:17.718963Z",
     "shell.execute_reply.started": "2023-03-24T09:08:17.711345Z"
    }
   },
   "outputs": [
    {
     "data": {
      "text/plain": [
       " 0    9795\n",
       "-1    6468\n",
       " 1    1206\n",
       "-2    1060\n",
       " 2     250\n",
       "Name: score, dtype: int64"
      ]
     },
     "execution_count": 18,
     "metadata": {},
     "output_type": "execute_result"
    }
   ],
   "source": [
    "df[\"score\"].value_counts()"
   ]
  },
  {
   "cell_type": "code",
   "execution_count": 19,
   "metadata": {
    "execution": {
     "iopub.execute_input": "2023-03-24T09:08:21.062649Z",
     "iopub.status.busy": "2023-03-24T09:08:21.062262Z",
     "iopub.status.idle": "2023-03-24T09:08:21.086452Z",
     "shell.execute_reply": "2023-03-24T09:08:21.085526Z",
     "shell.execute_reply.started": "2023-03-24T09:08:21.062616Z"
    }
   },
   "outputs": [
    {
     "data": {
      "text/plain": [
       " 0    9795\n",
       "-1    6468\n",
       " 1    5000\n",
       " 2    5000\n",
       "-2    5000\n",
       "Name: score, dtype: int64"
      ]
     },
     "execution_count": 19,
     "metadata": {},
     "output_type": "execute_result"
    }
   ],
   "source": [
    "from sklearn.utils import resample\n",
    "df0=df[df[\"score\"]==0]\n",
    "df1=df[df[\"score\"]==1]\n",
    "df1n=df[df[\"score\"]==-1]\n",
    "df2=df[df[\"score\"]==2]\n",
    "df2n=df[df[\"score\"]==-2]\n",
    "\n",
    "#df0_down=resample(df0, replace=True, n_samples=5000)\n",
    "df0_down=df0\n",
    "df1_up=resample(df1, replace=True, n_samples=5000)\n",
    "#df1n_down=resample(df1n, replace=True, n_samples=5000)\n",
    "df1n_down=df1n\n",
    "df2_up=resample(df2, replace=True, n_samples=5000)\n",
    "df2n_up=resample(df2n, replace=True, n_samples=5000)\n",
    "\n",
    "df=pd.concat([df0_down,df1_up,df1n_down, df2_up, df2n_up])\n",
    "df[\"score\"].value_counts()\n"
   ]
  },
  {
   "cell_type": "code",
   "execution_count": 22,
   "metadata": {
    "execution": {
     "iopub.execute_input": "2023-03-24T09:10:17.355244Z",
     "iopub.status.busy": "2023-03-24T09:10:17.352350Z",
     "iopub.status.idle": "2023-03-24T09:10:17.467018Z",
     "shell.execute_reply": "2023-03-24T09:10:17.465851Z",
     "shell.execute_reply.started": "2023-03-24T09:10:17.355203Z"
    }
   },
   "outputs": [
    {
     "data": {
      "text/plain": [
       "(25010, 300)"
      ]
     },
     "execution_count": 22,
     "metadata": {},
     "output_type": "execute_result"
    }
   ],
   "source": [
    "X_train, X_test, y_train, y_test = train_test_split(df['original_data'], df['score'], test_size=0.2, random_state=42)\n",
    "X_train=np.stack(X_train)\n",
    "X_test=np.stack(X_test)\n",
    "X_train.shape"
   ]
  },
  {
   "cell_type": "markdown",
   "metadata": {},
   "source": [
    "## kNN"
   ]
  },
  {
   "cell_type": "markdown",
   "metadata": {},
   "source": [
    "На тренировочных данных:"
   ]
  },
  {
   "cell_type": "code",
   "execution_count": 31,
   "metadata": {
    "execution": {
     "iopub.execute_input": "2023-03-24T09:21:59.844318Z",
     "iopub.status.busy": "2023-03-24T09:21:59.843654Z",
     "iopub.status.idle": "2023-03-24T09:22:09.361934Z",
     "shell.execute_reply": "2023-03-24T09:22:09.360628Z",
     "shell.execute_reply.started": "2023-03-24T09:21:59.844269Z"
    }
   },
   "outputs": [
    {
     "name": "stdout",
     "output_type": "stream",
     "text": [
      "f1_score:  0.7005882639860772\n",
      "precision_score:  0.6914321736624227\n",
      "recall_score 0.7116985313264393\n",
      "              precision    recall  f1-score   support\n",
      "\n",
      "          -2       0.79      0.87      0.83       987\n",
      "          -1       0.41      0.39      0.40      1278\n",
      "           0       0.59      0.54      0.56      1969\n",
      "           1       0.77      0.83      0.80      1023\n",
      "           2       0.91      0.92      0.92       996\n",
      "\n",
      "    accuracy                           0.67      6253\n",
      "   macro avg       0.69      0.71      0.70      6253\n",
      "weighted avg       0.66      0.67      0.67      6253\n",
      "\n"
     ]
    }
   ],
   "source": [
    "from sklearn.neighbors import KNeighborsClassifier\n",
    "\n",
    "knn = KNeighborsClassifier(n_neighbors=1, algorithm='auto', leaf_size=1, p=2)\n",
    "knn.fit(X_train, y_train)\n",
    "knn.score(X_test, y_test)\n",
    "predicted = knn.predict(X_test)\n",
    "\n",
    "print('f1_score: ', f1_score(y_test, predicted, average=\"macro\"))\n",
    "print('precision_score: ', precision_score(y_test, predicted, average=\"macro\"))\n",
    "print('recall_score', recall_score(y_test, predicted, average=\"macro\")) \n",
    "\n",
    "print(metrics.classification_report(y_test, predicted))"
   ]
  },
  {
   "cell_type": "markdown",
   "metadata": {},
   "source": [
    "На тестовых"
   ]
  },
  {
   "cell_type": "code",
   "execution_count": 32,
   "metadata": {
    "execution": {
     "iopub.execute_input": "2023-03-24T09:22:16.859638Z",
     "iopub.status.busy": "2023-03-24T09:22:16.858640Z",
     "iopub.status.idle": "2023-03-24T09:22:22.732560Z",
     "shell.execute_reply": "2023-03-24T09:22:22.731249Z",
     "shell.execute_reply.started": "2023-03-24T09:22:16.859584Z"
    }
   },
   "outputs": [
    {
     "name": "stdout",
     "output_type": "stream",
     "text": [
      "              precision    recall  f1-score   support\n",
      "\n",
      "          -2       0.48      0.63      0.55       473\n",
      "          -1       0.66      0.65      0.66      2747\n",
      "           0       0.78      0.72      0.75      4199\n",
      "           1       0.50      0.66      0.57       524\n",
      "           2       0.43      0.73      0.54       105\n",
      "\n",
      "    accuracy                           0.69      8048\n",
      "   macro avg       0.57      0.68      0.61      8048\n",
      "weighted avg       0.70      0.69      0.69      8048\n",
      "\n"
     ]
    }
   ],
   "source": [
    "predicted = knn.predict(np.stack(df_test[\"original_data\"]))\n",
    "print(metrics.classification_report(df_test[\"score\"], predicted))"
   ]
  },
  {
   "cell_type": "markdown",
   "metadata": {},
   "source": [
    "## Random forest"
   ]
  },
  {
   "cell_type": "code",
   "execution_count": 23,
   "metadata": {
    "execution": {
     "iopub.execute_input": "2023-03-24T09:10:27.041200Z",
     "iopub.status.busy": "2023-03-24T09:10:27.040451Z",
     "iopub.status.idle": "2023-03-24T09:11:19.054813Z",
     "shell.execute_reply": "2023-03-24T09:11:19.051687Z",
     "shell.execute_reply.started": "2023-03-24T09:10:27.041150Z"
    }
   },
   "outputs": [
    {
     "data": {
      "text/plain": [
       "RandomForestClassifier()"
      ]
     },
     "execution_count": 23,
     "metadata": {},
     "output_type": "execute_result"
    }
   ],
   "source": [
    "from sklearn.ensemble import RandomForestClassifier\n",
    "clf = RandomForestClassifier(n_estimators=100,min_samples_leaf=1,max_depth=None)\n",
    "clf.fit(X_train, y_train)"
   ]
  },
  {
   "cell_type": "markdown",
   "metadata": {},
   "source": [
    "Результат на тренировочных данных:"
   ]
  },
  {
   "cell_type": "code",
   "execution_count": 28,
   "metadata": {
    "execution": {
     "iopub.execute_input": "2023-03-24T09:18:05.880501Z",
     "iopub.status.busy": "2023-03-24T09:18:05.879529Z",
     "iopub.status.idle": "2023-03-24T09:18:06.128079Z",
     "shell.execute_reply": "2023-03-24T09:18:06.126645Z",
     "shell.execute_reply.started": "2023-03-24T09:18:05.880445Z"
    }
   },
   "outputs": [
    {
     "name": "stdout",
     "output_type": "stream",
     "text": [
      "f1_score:  0.7554768186518996\n",
      "precision_score:  0.757249153495004\n",
      "recall_score 0.7710483058342994\n",
      "              precision    recall  f1-score   support\n",
      "\n",
      "          -2       0.88      0.95      0.92       987\n",
      "          -1       0.46      0.24      0.32      1278\n",
      "           0       0.62      0.76      0.69      1969\n",
      "           1       0.88      0.90      0.89      1023\n",
      "           2       0.94      1.00      0.97       996\n",
      "\n",
      "    accuracy                           0.75      6253\n",
      "   macro avg       0.76      0.77      0.76      6253\n",
      "weighted avg       0.72      0.75      0.73      6253\n",
      "\n"
     ]
    }
   ],
   "source": [
    "predicted = clf.predict(X_test)\n",
    "\n",
    "print('f1_score: ', f1_score(y_test, predicted, average=\"macro\"))\n",
    "print('precision_score: ', precision_score(y_test, predicted, average=\"macro\"))\n",
    "print('recall_score', recall_score(y_test, predicted, average=\"macro\")) \n",
    "\n",
    "# calculating the main quality metrics\n",
    "print(metrics.classification_report(y_test, predicted))"
   ]
  },
  {
   "cell_type": "markdown",
   "metadata": {},
   "source": [
    "На тестовых данных:"
   ]
  },
  {
   "cell_type": "code",
   "execution_count": 29,
   "metadata": {
    "execution": {
     "iopub.execute_input": "2023-03-24T09:18:16.867145Z",
     "iopub.status.busy": "2023-03-24T09:18:16.866130Z",
     "iopub.status.idle": "2023-03-24T09:18:17.222605Z",
     "shell.execute_reply": "2023-03-24T09:18:17.220999Z",
     "shell.execute_reply.started": "2023-03-24T09:18:16.867091Z"
    }
   },
   "outputs": [
    {
     "name": "stdout",
     "output_type": "stream",
     "text": [
      "f1_score:  0.6609894021464616\n",
      "precision_score:  0.6326943215181949\n",
      "recall_score 0.7118239206636917\n",
      "              precision    recall  f1-score   support\n",
      "\n",
      "          -2       0.57      0.68      0.62       473\n",
      "          -1       0.76      0.58      0.66      2747\n",
      "           0       0.75      0.82      0.78      4199\n",
      "           1       0.58      0.68      0.63       524\n",
      "           2       0.50      0.79      0.61       105\n",
      "\n",
      "    accuracy                           0.72      8048\n",
      "   macro avg       0.63      0.71      0.66      8048\n",
      "weighted avg       0.73      0.72      0.72      8048\n",
      "\n"
     ]
    }
   ],
   "source": [
    "X=np.stack(df_test['original_data'])\n",
    "y=df_test['score']\n",
    "predicted = clf.predict(X)\n",
    "\n",
    "print('f1_score: ', f1_score(y, predicted, average=\"macro\"))\n",
    "print('precision_score: ', precision_score(y, predicted, average=\"macro\"))\n",
    "print('recall_score', recall_score(y, predicted, average=\"macro\")) \n",
    "\n",
    "# calculating the main quality metrics\n",
    "print(metrics.classification_report(y, predicted))"
   ]
  },
  {
   "cell_type": "markdown",
   "metadata": {},
   "source": [
    "## XGBoost"
   ]
  },
  {
   "cell_type": "code",
   "execution_count": 33,
   "metadata": {
    "execution": {
     "iopub.execute_input": "2023-03-24T09:31:09.157777Z",
     "iopub.status.busy": "2023-03-24T09:31:09.156365Z",
     "iopub.status.idle": "2023-03-24T09:37:53.452504Z",
     "shell.execute_reply": "2023-03-24T09:37:53.451512Z",
     "shell.execute_reply.started": "2023-03-24T09:31:09.157722Z"
    }
   },
   "outputs": [
    {
     "data": {
      "text/plain": [
       "XGBClassifier(base_score=0.5, booster='gbtree', callbacks=None,\n",
       "              colsample_bylevel=1, colsample_bynode=1, colsample_bytree=1,\n",
       "              early_stopping_rounds=None, enable_categorical=False,\n",
       "              eval_metric=None, gamma=0, gpu_id=-1, grow_policy='depthwise',\n",
       "              importance_type=None, interaction_constraints='',\n",
       "              learning_rate=0.1, max_bin=256, max_cat_to_onehot=4,\n",
       "              max_delta_step=0, max_depth=6, max_leaves=0, min_child_weight=1,\n",
       "              missing=nan, monotone_constraints='()', n_estimators=100,\n",
       "              n_jobs=0, num_parallel_tree=1, objective='multi:softprob',\n",
       "              predictor='auto', random_state=0, reg_alpha=0, ...)"
      ]
     },
     "execution_count": 33,
     "metadata": {},
     "output_type": "execute_result"
    }
   ],
   "source": [
    "import xgboost as xgb\n",
    "model = xgb.XGBClassifier(learning_rate=0.1,n_estimators=100)\n",
    "y_train_pos=y_train+2\n",
    "model.fit(X_train, y_train_pos)"
   ]
  },
  {
   "cell_type": "markdown",
   "metadata": {},
   "source": [
    "На тренировочных данных:"
   ]
  },
  {
   "cell_type": "code",
   "execution_count": 34,
   "metadata": {
    "execution": {
     "iopub.execute_input": "2023-03-24T09:43:23.827887Z",
     "iopub.status.busy": "2023-03-24T09:43:23.827306Z",
     "iopub.status.idle": "2023-03-24T09:43:24.046571Z",
     "shell.execute_reply": "2023-03-24T09:43:24.044152Z",
     "shell.execute_reply.started": "2023-03-24T09:43:23.827842Z"
    }
   },
   "outputs": [
    {
     "name": "stdout",
     "output_type": "stream",
     "text": [
      "f1_score:  0.7178962381300287\n",
      "precision_score:  0.7427915342771418\n",
      "recall_score 0.7171906782701403\n",
      "              precision    recall  f1-score   support\n",
      "\n",
      "          -2       0.89      0.83      0.86       987\n",
      "          -1       0.45      0.23      0.30      1278\n",
      "           0       0.56      0.77      0.65      1969\n",
      "           1       0.89      0.75      0.81      1023\n",
      "           2       0.94      1.00      0.97       996\n",
      "\n",
      "    accuracy                           0.70      6253\n",
      "   macro avg       0.74      0.72      0.72      6253\n",
      "weighted avg       0.70      0.70      0.69      6253\n",
      "\n"
     ]
    }
   ],
   "source": [
    "predicted = model.predict(X_test)\n",
    "predicted-=2\n",
    "print('f1_score: ', f1_score(y_test, predicted, average=\"macro\"))\n",
    "print('precision_score: ', precision_score(y_test, predicted, average=\"macro\"))\n",
    "print('recall_score', recall_score(y_test, predicted, average=\"macro\")) \n",
    "\n",
    "# calculating the main quality metrics\n",
    "print(metrics.classification_report(y_test, predicted))"
   ]
  },
  {
   "cell_type": "markdown",
   "metadata": {},
   "source": [
    "На тестовых:"
   ]
  },
  {
   "cell_type": "code",
   "execution_count": 35,
   "metadata": {
    "execution": {
     "iopub.execute_input": "2023-03-24T09:43:30.385729Z",
     "iopub.status.busy": "2023-03-24T09:43:30.384119Z",
     "iopub.status.idle": "2023-03-24T09:43:30.533282Z",
     "shell.execute_reply": "2023-03-24T09:43:30.531259Z",
     "shell.execute_reply.started": "2023-03-24T09:43:30.385654Z"
    }
   },
   "outputs": [
    {
     "name": "stdout",
     "output_type": "stream",
     "text": [
      "f1_score:  0.6299685319504189\n",
      "precision_score:  0.6284077307343471\n",
      "recall_score 0.66069059860673\n",
      "              precision    recall  f1-score   support\n",
      "\n",
      "          -2       0.60      0.62      0.61       473\n",
      "          -1       0.75      0.47      0.58      2747\n",
      "           0       0.69      0.85      0.77      4199\n",
      "           1       0.59      0.57      0.58       524\n",
      "           2       0.50      0.79      0.61       105\n",
      "\n",
      "    accuracy                           0.69      8048\n",
      "   macro avg       0.63      0.66      0.63      8048\n",
      "weighted avg       0.70      0.69      0.68      8048\n",
      "\n"
     ]
    }
   ],
   "source": [
    "X=np.stack(df_test['original_data'])\n",
    "y=df_test['score']\n",
    "predicted = model.predict(X)\n",
    "predicted-=2\n",
    "print('f1_score: ', f1_score(y, predicted, average=\"macro\"))\n",
    "print('precision_score: ', precision_score(y, predicted, average=\"macro\"))\n",
    "print('recall_score', recall_score(y, predicted, average=\"macro\")) \n",
    "\n",
    "# calculating the main quality metrics\n",
    "print(metrics.classification_report(y, predicted))"
   ]
  },
  {
   "cell_type": "markdown",
   "metadata": {},
   "source": [
    "## AdaBoost"
   ]
  },
  {
   "cell_type": "code",
   "execution_count": 36,
   "metadata": {
    "execution": {
     "iopub.execute_input": "2023-03-24T09:44:05.732742Z",
     "iopub.status.busy": "2023-03-24T09:44:05.731789Z",
     "iopub.status.idle": "2023-03-24T09:44:44.935157Z",
     "shell.execute_reply": "2023-03-24T09:44:44.934023Z",
     "shell.execute_reply.started": "2023-03-24T09:44:05.732689Z"
    }
   },
   "outputs": [
    {
     "data": {
      "text/plain": [
       "AdaBoostClassifier()"
      ]
     },
     "execution_count": 36,
     "metadata": {},
     "output_type": "execute_result"
    }
   ],
   "source": [
    "from sklearn.ensemble import AdaBoostClassifier\n",
    "model = AdaBoostClassifier()\n",
    "model.fit(X_train, y_train_pos)"
   ]
  },
  {
   "cell_type": "code",
   "execution_count": 37,
   "metadata": {
    "execution": {
     "iopub.execute_input": "2023-03-24T09:45:22.433531Z",
     "iopub.status.busy": "2023-03-24T09:45:22.432924Z",
     "iopub.status.idle": "2023-03-24T09:45:22.568899Z",
     "shell.execute_reply": "2023-03-24T09:45:22.567632Z",
     "shell.execute_reply.started": "2023-03-24T09:45:22.433472Z"
    }
   },
   "outputs": [
    {
     "name": "stdout",
     "output_type": "stream",
     "text": [
      "f1_score:  0.1973367702889972\n",
      "precision_score:  0.25791616481539303\n",
      "recall_score 0.26464193773057126\n",
      "              precision    recall  f1-score   support\n",
      "\n",
      "          -2       0.00      0.00      0.00       987\n",
      "          -1       0.20      0.00      0.00      1278\n",
      "           0       0.33      0.90      0.49      1969\n",
      "           1       0.26      0.04      0.07      1023\n",
      "           2       0.49      0.38      0.43       996\n",
      "\n",
      "    accuracy                           0.35      6253\n",
      "   macro avg       0.26      0.26      0.20      6253\n",
      "weighted avg       0.27      0.35      0.23      6253\n",
      "\n"
     ]
    }
   ],
   "source": [
    "predicted = model.predict(X_test)-2\n",
    "print('f1_score: ', f1_score(y_test, predicted, average=\"macro\"))\n",
    "print('precision_score: ', precision_score(y_test, predicted, average=\"macro\"))\n",
    "print('recall_score', recall_score(y_test, predicted, average=\"macro\")) \n",
    "\n",
    "# calculating the main quality metrics\n",
    "print(metrics.classification_report(y_test, predicted))"
   ]
  },
  {
   "cell_type": "markdown",
   "metadata": {},
   "source": [
    "## LSTM с эмбедингами из navec"
   ]
  },
  {
   "cell_type": "code",
   "execution_count": 38,
   "metadata": {
    "execution": {
     "iopub.execute_input": "2023-03-24T09:45:40.189720Z",
     "iopub.status.busy": "2023-03-24T09:45:40.189303Z",
     "iopub.status.idle": "2023-03-24T09:45:46.370748Z",
     "shell.execute_reply": "2023-03-24T09:45:46.369514Z",
     "shell.execute_reply.started": "2023-03-24T09:45:40.189682Z"
    }
   },
   "outputs": [],
   "source": [
    "import tensorflow as tf\n",
    "from tensorflow.keras.layers import LSTM, GRU, Dense, Embedding, Dropout\n",
    "from tensorflow.keras.preprocessing import text, sequence \n",
    "from tensorflow.keras.models import Sequential"
   ]
  },
  {
   "cell_type": "code",
   "execution_count": 39,
   "metadata": {
    "execution": {
     "iopub.execute_input": "2023-03-24T09:46:05.384982Z",
     "iopub.status.busy": "2023-03-24T09:46:05.383887Z",
     "iopub.status.idle": "2023-03-24T09:46:16.791436Z",
     "shell.execute_reply": "2023-03-24T09:46:16.790335Z",
     "shell.execute_reply.started": "2023-03-24T09:46:05.384938Z"
    }
   },
   "outputs": [
    {
     "name": "stdout",
     "output_type": "stream",
     "text": [
      "Collecting slovnet\n",
      "  Downloading slovnet-0.6.0-py3-none-any.whl (46 kB)\n",
      "\u001b[2K     \u001b[90m━━━━━━━━━━━━━━━━━━━━━━━━━━━━━━━━━━━━━━━━\u001b[0m \u001b[32m46.7/46.7 kB\u001b[0m \u001b[31m4.0 MB/s\u001b[0m eta \u001b[36m0:00:00\u001b[0m\n",
      "\u001b[?25hCollecting razdel\n",
      "  Downloading razdel-0.5.0-py3-none-any.whl (21 kB)\n",
      "Collecting navec\n",
      "  Downloading navec-0.10.0-py3-none-any.whl (23 kB)\n",
      "Requirement already satisfied: numpy in /opt/conda/lib/python3.7/site-packages (from slovnet) (1.21.6)\n",
      "Installing collected packages: razdel, navec, slovnet\n",
      "Successfully installed navec-0.10.0 razdel-0.5.0 slovnet-0.6.0\n",
      "\u001b[33mWARNING: Running pip as the 'root' user can result in broken permissions and conflicting behaviour with the system package manager. It is recommended to use a virtual environment instead: https://pip.pypa.io/warnings/venv\u001b[0m\u001b[33m\n",
      "\u001b[0m"
     ]
    }
   ],
   "source": [
    "!pip install slovnet\n",
    "from slovnet.model.emb import NavecEmbedding"
   ]
  },
  {
   "cell_type": "code",
   "execution_count": 46,
   "metadata": {
    "execution": {
     "iopub.execute_input": "2023-03-24T09:47:27.908240Z",
     "iopub.status.busy": "2023-03-24T09:47:27.907872Z",
     "iopub.status.idle": "2023-03-24T09:47:27.928824Z",
     "shell.execute_reply": "2023-03-24T09:47:27.927724Z",
     "shell.execute_reply.started": "2023-03-24T09:47:27.908208Z"
    }
   },
   "outputs": [
    {
     "name": "stdout",
     "output_type": "stream",
     "text": [
      "Max number of words in a text in training data: 5984\n"
     ]
    }
   ],
   "source": [
    "xtrain, xtest, ytrain, ytest = train_test_split(df_train['original_data'], df_train['score'], shuffle=True, test_size=0.2)\n",
    "# find the length of the largest sentence in training data\n",
    "max_len = xtrain.apply(lambda x: len(x)).max()\n",
    "print(f'Max number of words in a text in training data: {max_len}')"
   ]
  },
  {
   "cell_type": "code",
   "execution_count": 48,
   "metadata": {
    "execution": {
     "iopub.execute_input": "2023-03-24T09:47:49.680774Z",
     "iopub.status.busy": "2023-03-24T09:47:49.679869Z",
     "iopub.status.idle": "2023-03-24T09:47:54.372396Z",
     "shell.execute_reply": "2023-03-24T09:47:54.371249Z",
     "shell.execute_reply.started": "2023-03-24T09:47:49.680722Z"
    }
   },
   "outputs": [
    {
     "name": "stdout",
     "output_type": "stream",
     "text": [
      "text example: гала небольшой коментарий pocahontasm рекомендовать прочитать ваш рекомендация зайти форум дежурить почитать вспомнить изречение конфуций очень трудно искать чёрный кошка тёмный комната особенность нех парень который спорить пурга голова переубеждать совершенно толк скорее нужно высылать целый набор ссылка сначала перечитать писать пресса это выстроить линейка публикация возникать логический связь сколько фильтровать информация явно уметь совершенно чётко пролёживаться компост который нашпиговать средство массовый информация россия\n",
      "sequence of indices(before padding): [1608, 537, 76, 118, 585, 101, 1835, 920, 1044, 16, 376, 18, 2043, 607, 6302, 8686, 11, 5695, 36, 69, 6681, 4172, 1439, 36, 676, 9, 2648, 13, 522, 5981, 8066, 279, 1, 1044, 118, 3535, 16, 805, 169, 69, 7106, 36, 80, 369, 440, 36, 805, 367, 1608, 118]\n",
      "sequence of indices(after padding): [   0    0    0 ...  367 1608  118]\n"
     ]
    }
   ],
   "source": [
    "max_words = 10000\n",
    "tokenizer = text.Tokenizer(num_words = max_words)\n",
    "tokenizer.fit_on_texts(xtrain)\n",
    "xtrain_seq = tokenizer.texts_to_sequences(xtrain)\n",
    "xtest_seq = tokenizer.texts_to_sequences(xtest)\n",
    "\n",
    "xtrain_pad = sequence.pad_sequences(xtrain_seq, maxlen=max_len)\n",
    "xtest_pad = sequence.pad_sequences(xtest_seq, maxlen=max_len)\n",
    "word_index = tokenizer.word_index\n",
    "\n",
    "print('text example:', xtrain[0])\n",
    "print('sequence of indices(before padding):', xtrain_seq[0])\n",
    "print('sequence of indices(after padding):', xtrain_pad[0])"
   ]
  },
  {
   "cell_type": "code",
   "execution_count": 49,
   "metadata": {
    "execution": {
     "iopub.execute_input": "2023-03-24T09:47:58.244654Z",
     "iopub.status.busy": "2023-03-24T09:47:58.244257Z",
     "iopub.status.idle": "2023-03-24T09:48:00.790217Z",
     "shell.execute_reply": "2023-03-24T09:48:00.788835Z",
     "shell.execute_reply.started": "2023-03-24T09:47:58.244619Z"
    }
   },
   "outputs": [
    {
     "name": "stdout",
     "output_type": "stream",
     "text": [
      "--2023-03-24 09:47:59--  https://storage.yandexcloud.net/natasha-navec/packs/navec_hudlit_v1_12B_500K_300d_100q.tar\n",
      "Resolving storage.yandexcloud.net (storage.yandexcloud.net)... 213.180.193.243, 2a02:6b8::1d9\n",
      "Connecting to storage.yandexcloud.net (storage.yandexcloud.net)|213.180.193.243|:443... connected.\n",
      "HTTP request sent, awaiting response... 200 OK\n",
      "Length: 53012480 (51M) [application/x-tar]\n",
      "Saving to: ‘navec_hudlit_v1_12B_500K_300d_100q.tar’\n",
      "\n",
      "navec_hudlit_v1_12B 100%[===================>]  50.56M  43.1MB/s    in 1.2s    \n",
      "\n",
      "2023-03-24 09:48:00 (43.1 MB/s) - ‘navec_hudlit_v1_12B_500K_300d_100q.tar’ saved [53012480/53012480]\n",
      "\n"
     ]
    }
   ],
   "source": [
    "!wget https://storage.yandexcloud.net/natasha-navec/packs/navec_hudlit_v1_12B_500K_300d_100q.tar"
   ]
  },
  {
   "cell_type": "code",
   "execution_count": 50,
   "metadata": {
    "execution": {
     "iopub.execute_input": "2023-03-24T09:48:02.997527Z",
     "iopub.status.busy": "2023-03-24T09:48:02.997112Z",
     "iopub.status.idle": "2023-03-24T09:48:03.758798Z",
     "shell.execute_reply": "2023-03-24T09:48:03.757283Z",
     "shell.execute_reply.started": "2023-03-24T09:48:02.997465Z"
    }
   },
   "outputs": [],
   "source": [
    "from navec import Navec\n",
    "path=\"navec_hudlit_v1_12B_500K_300d_100q.tar\"\n",
    "navec = Navec.load(path)\n",
    "navec['навек'].shape\n",
    "embedding_vectors=navec"
   ]
  },
  {
   "cell_type": "code",
   "execution_count": 51,
   "metadata": {
    "execution": {
     "iopub.execute_input": "2023-03-24T09:48:17.837383Z",
     "iopub.status.busy": "2023-03-24T09:48:17.837019Z",
     "iopub.status.idle": "2023-03-24T09:48:17.961641Z",
     "shell.execute_reply": "2023-03-24T09:48:17.960502Z",
     "shell.execute_reply.started": "2023-03-24T09:48:17.837349Z"
    }
   },
   "outputs": [
    {
     "name": "stdout",
     "output_type": "stream",
     "text": [
      "Some out of valubulary words: ['чтоть', 'ктоть', 'какойтый', 'гдеть', 'почемуть']\n"
     ]
    }
   ],
   "source": [
    "emb_dim = 300\n",
    "if max_words is not None: \n",
    "    vocab_len = max_words \n",
    "else:\n",
    "    vocab_len = len(word_index)+1\n",
    "embedding_matrix = np.zeros((vocab_len, emb_dim))\n",
    "oov_count = 0\n",
    "oov_words = []\n",
    "for word, idx in word_index.items():\n",
    "    if idx < vocab_len:\n",
    "        embedding_vector = embedding_vectors.get(word)\n",
    "        if embedding_vector is not None:\n",
    "            embedding_matrix[idx] = embedding_vector\n",
    "        else:\n",
    "            oov_count += 1 \n",
    "            oov_words.append(word)\n",
    "\n",
    "print(f'Some out of valubulary words: {oov_words[0:5]}')"
   ]
  },
  {
   "cell_type": "code",
   "execution_count": 52,
   "metadata": {
    "execution": {
     "iopub.execute_input": "2023-03-24T09:48:20.162183Z",
     "iopub.status.busy": "2023-03-24T09:48:20.161209Z",
     "iopub.status.idle": "2023-03-24T09:48:20.167278Z",
     "shell.execute_reply": "2023-03-24T09:48:20.166192Z",
     "shell.execute_reply.started": "2023-03-24T09:48:20.162145Z"
    }
   },
   "outputs": [
    {
     "name": "stdout",
     "output_type": "stream",
     "text": [
      "447 out of 10000 words were OOV.\n"
     ]
    }
   ],
   "source": [
    "print(f'{oov_count} out of {vocab_len} words were OOV.')"
   ]
  },
  {
   "cell_type": "code",
   "execution_count": 54,
   "metadata": {
    "execution": {
     "iopub.execute_input": "2023-03-24T09:48:56.511969Z",
     "iopub.status.busy": "2023-03-24T09:48:56.511018Z",
     "iopub.status.idle": "2023-03-24T09:48:57.167697Z",
     "shell.execute_reply": "2023-03-24T09:48:57.166911Z",
     "shell.execute_reply.started": "2023-03-24T09:48:56.511913Z"
    }
   },
   "outputs": [
    {
     "name": "stdout",
     "output_type": "stream",
     "text": [
      "Model: \"sequential_1\"\n",
      "_________________________________________________________________\n",
      " Layer (type)                Output Shape              Param #   \n",
      "=================================================================\n",
      " embedding_1 (Embedding)     (None, None, 300)         3000000   \n",
      "                                                                 \n",
      " lstm_1 (LSTM)               (None, 128)               219648    \n",
      "                                                                 \n",
      " dropout_1 (Dropout)         (None, 128)               0         \n",
      "                                                                 \n",
      " dense_1 (Dense)             (None, 1)                 129       \n",
      "                                                                 \n",
      "=================================================================\n",
      "Total params: 3,219,777\n",
      "Trainable params: 219,777\n",
      "Non-trainable params: 3,000,000\n",
      "_________________________________________________________________\n",
      "None\n"
     ]
    }
   ],
   "source": [
    "lstm_model = Sequential()\n",
    "lstm_model.add(Embedding(vocab_len, emb_dim, trainable = False, weights=[embedding_matrix]))\n",
    "lstm_model.add(LSTM(128, return_sequences=False))\n",
    "lstm_model.add(Dropout(0.5))\n",
    "lstm_model.add(Dense(1, activation = 'sigmoid'))\n",
    "lstm_model.compile(loss='binary_crossentropy', optimizer='adam', metrics=['accuracy'])\n",
    "print(lstm_model.summary())"
   ]
  },
  {
   "cell_type": "code",
   "execution_count": 55,
   "metadata": {
    "execution": {
     "iopub.execute_input": "2023-03-24T09:49:02.957114Z",
     "iopub.status.busy": "2023-03-24T09:49:02.956415Z",
     "iopub.status.idle": "2023-03-24T09:58:27.181335Z",
     "shell.execute_reply": "2023-03-24T09:58:27.180200Z",
     "shell.execute_reply.started": "2023-03-24T09:49:02.957076Z"
    }
   },
   "outputs": [
    {
     "name": "stdout",
     "output_type": "stream",
     "text": [
      "Epoch 1/10\n",
      "59/59 [==============================] - 58s 876ms/step - loss: -5.0829 - accuracy: 0.5148 - val_loss: -7.9121 - val_accuracy: 0.5314\n",
      "Epoch 2/10\n",
      "59/59 [==============================] - 51s 866ms/step - loss: -9.4368 - accuracy: 0.5191 - val_loss: -10.9884 - val_accuracy: 0.5314\n",
      "Epoch 3/10\n",
      "59/59 [==============================] - 51s 866ms/step - loss: -12.4254 - accuracy: 0.5191 - val_loss: -13.8943 - val_accuracy: 0.5314\n",
      "Epoch 4/10\n",
      "59/59 [==============================] - 49s 839ms/step - loss: -15.2757 - accuracy: 0.5191 - val_loss: -16.7579 - val_accuracy: 0.5314\n",
      "Epoch 5/10\n",
      "59/59 [==============================] - 50s 841ms/step - loss: -18.1650 - accuracy: 0.5191 - val_loss: -19.6074 - val_accuracy: 0.5314\n",
      "Epoch 6/10\n",
      "59/59 [==============================] - 51s 866ms/step - loss: -21.0097 - accuracy: 0.5191 - val_loss: -22.4116 - val_accuracy: 0.5314\n",
      "Epoch 7/10\n",
      "59/59 [==============================] - 49s 838ms/step - loss: -23.7470 - accuracy: 0.5191 - val_loss: -25.2061 - val_accuracy: 0.5314\n",
      "Epoch 8/10\n",
      "59/59 [==============================] - 51s 866ms/step - loss: -26.5045 - accuracy: 0.5191 - val_loss: -27.9538 - val_accuracy: 0.5314\n",
      "Epoch 9/10\n",
      "59/59 [==============================] - 51s 866ms/step - loss: -29.2432 - accuracy: 0.5191 - val_loss: -30.7012 - val_accuracy: 0.5314\n",
      "Epoch 10/10\n",
      "59/59 [==============================] - 51s 866ms/step - loss: -31.8768 - accuracy: 0.5191 - val_loss: -33.4507 - val_accuracy: 0.5314\n",
      "CPU times: user 6min 15s, sys: 1min 55s, total: 8min 11s\n",
      "Wall time: 9min 24s\n"
     ]
    }
   ],
   "source": [
    "%%time\n",
    "batch_size = 256\n",
    "epochs  = 10\n",
    "history = lstm_model.fit(xtrain_pad, np.asarray(ytrain), validation_data=(xtest_pad, np.asarray(ytest)), batch_size = batch_size, epochs = epochs)"
   ]
  },
  {
   "cell_type": "code",
   "execution_count": 56,
   "metadata": {
    "execution": {
     "iopub.execute_input": "2023-03-24T09:58:27.183871Z",
     "iopub.status.busy": "2023-03-24T09:58:27.183573Z",
     "iopub.status.idle": "2023-03-24T09:58:32.422797Z",
     "shell.execute_reply": "2023-03-24T09:58:32.421501Z",
     "shell.execute_reply.started": "2023-03-24T09:58:27.183842Z"
    }
   },
   "outputs": [
    {
     "name": "stdout",
     "output_type": "stream",
     "text": [
      "Test accuracy: 53.14\n"
     ]
    }
   ],
   "source": [
    "test_lstm_results = lstm_model.evaluate(xtest_pad, np.asarray(ytest), verbose=0, batch_size=256)\n",
    "print(f'Test accuracy: {test_lstm_results[1]*100:0.2f}')"
   ]
  },
  {
   "cell_type": "code",
   "execution_count": 61,
   "metadata": {
    "execution": {
     "iopub.execute_input": "2023-03-24T09:59:37.572463Z",
     "iopub.status.busy": "2023-03-24T09:59:37.571561Z",
     "iopub.status.idle": "2023-03-24T09:59:37.585003Z",
     "shell.execute_reply": "2023-03-24T09:59:37.583554Z",
     "shell.execute_reply.started": "2023-03-24T09:59:37.572425Z"
    }
   },
   "outputs": [
    {
     "name": "stdout",
     "output_type": "stream",
     "text": [
      "0       [-0.0007005358, -0.0010926597, -0.0008658411, ...\n",
      "1       [0.00050507725, 0.0015609633, -0.00063179614, ...\n",
      "2       [0.0012362582, -0.0012174068, 0.001658022, -0....\n",
      "3       [-0.0006065422, 0.0012920747, 0.0011434853, 0....\n",
      "4       [-3.506144e-06, -0.0011744092, 0.0005202212, 0...\n",
      "                              ...                        \n",
      "8043    [0.00033375024, -4.824559e-05, 0.0011086279, 0...\n",
      "8044    [-0.0002488044, -0.0012059625, -0.0004676775, ...\n",
      "8045    [-0.00030789195, 0.0008987969, 0.0014729772, -...\n",
      "8046    [-0.0011191082, 0.0011925958, -0.0012218261, 0...\n",
      "8047    [-0.0016263147, -0.0007113282, -0.001607763, 0...\n",
      "Name: original_data, Length: 8048, dtype: object\n"
     ]
    }
   ],
   "source": [
    "print(df_test[\"original_data\"])"
   ]
  },
  {
   "cell_type": "code",
   "execution_count": 62,
   "metadata": {
    "execution": {
     "iopub.execute_input": "2023-03-24T10:01:31.809539Z",
     "iopub.status.busy": "2023-03-24T10:01:31.808582Z",
     "iopub.status.idle": "2023-03-24T10:07:46.810846Z",
     "shell.execute_reply": "2023-03-24T10:07:46.809723Z",
     "shell.execute_reply.started": "2023-03-24T10:01:31.809465Z"
    }
   },
   "outputs": [
    {
     "name": "stderr",
     "output_type": "stream",
     "text": [
      "  0%|          | 0/8048 [00:00<?, ?it/s]/opt/conda/lib/python3.7/site-packages/ipykernel_launcher.py:17: SettingWithCopyWarning: \n",
      "A value is trying to be set on a copy of a slice from a DataFrame\n",
      "\n",
      "See the caveats in the documentation: https://pandas.pydata.org/pandas-docs/stable/user_guide/indexing.html#returning-a-view-versus-a-copy\n",
      "  app.launch_new_instance()\n",
      "100%|██████████| 8048/8048 [05:27<00:00, 24.55it/s]\n",
      "  0%|          | 0/8048 [00:00<?, ?it/s]/opt/conda/lib/python3.7/site-packages/ipykernel_launcher.py:7: SettingWithCopyWarning: \n",
      "A value is trying to be set on a copy of a slice from a DataFrame\n",
      "\n",
      "See the caveats in the documentation: https://pandas.pydata.org/pandas-docs/stable/user_guide/indexing.html#returning-a-view-versus-a-copy\n",
      "  import sys\n",
      "100%|██████████| 8048/8048 [00:09<00:00, 850.81it/s]\n"
     ]
    },
    {
     "name": "stdout",
     "output_type": "stream",
     "text": [
      "252/252 [==============================] - 34s 134ms/step\n",
      "              precision    recall  f1-score   support\n",
      "\n",
      "          -2       0.00      0.00      0.00       473\n",
      "          -1       0.00      0.00      0.00      2747\n",
      "           0       0.52      1.00      0.69      4199\n",
      "           1       0.00      0.00      0.00       524\n",
      "           2       0.00      0.00      0.00       105\n",
      "\n",
      "    accuracy                           0.52      8048\n",
      "   macro avg       0.10      0.20      0.14      8048\n",
      "weighted avg       0.27      0.52      0.36      8048\n",
      "\n"
     ]
    },
    {
     "name": "stderr",
     "output_type": "stream",
     "text": [
      "/opt/conda/lib/python3.7/site-packages/sklearn/metrics/_classification.py:1318: UndefinedMetricWarning: Precision and F-score are ill-defined and being set to 0.0 in labels with no predicted samples. Use `zero_division` parameter to control this behavior.\n",
      "  _warn_prf(average, modifier, msg_start, len(result))\n",
      "/opt/conda/lib/python3.7/site-packages/sklearn/metrics/_classification.py:1318: UndefinedMetricWarning: Precision and F-score are ill-defined and being set to 0.0 in labels with no predicted samples. Use `zero_division` parameter to control this behavior.\n",
      "  _warn_prf(average, modifier, msg_start, len(result))\n",
      "/opt/conda/lib/python3.7/site-packages/sklearn/metrics/_classification.py:1318: UndefinedMetricWarning: Precision and F-score are ill-defined and being set to 0.0 in labels with no predicted samples. Use `zero_division` parameter to control this behavior.\n",
      "  _warn_prf(average, modifier, msg_start, len(result))\n"
     ]
    }
   ],
   "source": [
    "test_data = \"/kaggle/input/nlp-data/test_data_exam_1.xlsx\"\n",
    "df_test = pd.read_excel(test_data, 0) \n",
    "df_test=clear_and_lematization(df_test)\n",
    "df_test=stop_words(df_test)\n",
    "x_test=df_test[\"original_data\"]\n",
    "# create the vocabulary by fitting on x_train text\n",
    "tokenizer.fit_on_texts(x_test)\n",
    "# generate the sequence of tokens\n",
    "xtrain_seq = tokenizer.texts_to_sequences(x_test)\n",
    "\n",
    "# pad the sequences\n",
    "x_test = sequence.pad_sequences(xtrain_seq, maxlen=max_len)\n",
    "\n",
    "predicted=lstm_model.predict(x_test)\n",
    "print(metrics.classification_report(df_test[\"score\"], predicted))"
   ]
  }
 ],
 "metadata": {
  "kernelspec": {
   "display_name": "Python 3 (ipykernel)",
   "language": "python",
   "name": "python3"
  },
  "language_info": {
   "codemirror_mode": {
    "name": "ipython",
    "version": 3
   },
   "file_extension": ".py",
   "mimetype": "text/x-python",
   "name": "python",
   "nbconvert_exporter": "python",
   "pygments_lexer": "ipython3",
   "version": "3.10.9"
  }
 },
 "nbformat": 4,
 "nbformat_minor": 4
}
